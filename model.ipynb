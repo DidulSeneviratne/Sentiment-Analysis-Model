{
  "cells": [
    {
      "cell_type": "markdown",
      "metadata": {
        "id": "hbCDV-rQVtpV"
      },
      "source": [
        "# Part – A\n",
        "# Literature Review on Market Analysis:\n",
        "\n",
        "Market analysis is one of the world's fastest-growing artificial intelligence (AI) applications. In today’s fast-growing world, discussing business strategies and techniques without proper analytical support is nearly impossible. Every decision a business makes depends heavily on data. To navigate this data-dependent environment, organizations increasingly depend on AI-driven techniques across various sectors. Examples of these techniques and strategies include predictive analytics, competitor analysis, recommendation systems, sentiment analysis, and the currently trending real-time analytics powered by big data (Chong et al., 2017). These tools are not only transforming industries but also redefining how businesses approach decision-making and strategy development.\n",
        "\n",
        "AI-based market analysis has become essential across multiple fields, with its primary goal being to streamline operations, enhance customer relationships, and boost productivity. For example, the healthcare industry has seen remarkable benefits from AI applications. Using sentiment analysis and predictive analytics techniques, healthcare providers can identify service gaps and monitor patients’ mental health through feedback analysis (Jiang et al., 2021). Tasks traditionally requiring significant time and manual effort, such as sorting through patient reviews or feedback forms, can now be automated, leading to more efficient and accurate insights.\n",
        "\n",
        "E-commerce is another sector that has greatly benefited from AI-powered market analysis. This field stands out as particularly well-suited for applying these techniques. By analyzing platform reviews, customer feedback, and social media posts, e-commerce companies can accurately identify areas where they lag, identify customer needs, and tailor their strategies to specific audiences (Sun et al., 2019). For instance, sentiment analysis enables businesses to improve customer satisfaction and response productivity, ensuring a better user experience. Automation of these processes frees up time for innovation and forces a more dynamic marketplace, benefiting both businesses and society.\n",
        "At the core of these analytical techniques belongs to natural language processing (NLP), a foundational AI domain. NLP can be able to extract insights from unstructured text data, which generates a significant idea of the information available online. Initially, simple machine learning algorithms like Naive Bayes, Support Vector Machines (SVM), and Logistic Regression were used for these tasks. These methods are only effective for simple linear problems and have been largely overtaken by more advanced deep learning techniques.\n",
        "\n",
        "The advent of transformer-based architectures, such as BERT (Bidirectional Encoder Representations from Transformers) and GPT (Generative Pre-trained Transformer), has retransformed the market analysis. BERT, as a pre-trained language model, can be fine-tuned for various domains, making it highly versatile. On the other hand, GPT specializes in handling complex conversational data, which is valuable for analyzing customer interactions and social media conversations (Brown et al., 2020). These advancements have enabled businesses to process and interpret large volumes of data more effectively, understanding the patterns and trends that were previously unreachable.\n",
        "\n",
        "Despite these advancements, challenges remain. One significant issue is the insufficient biases present in AI models. Bias can arise from training data, where historical patterns may arguably make the inequalities or inaccuracies of the model. For instance, if training data reflects societal projection only a one side, AI systems might populate those biases, leading to wrong market insights. Another challenge is the ethical concern surrounding data privacy. With increasing reliance on data, businesses must ensure that they couple with privacy regulations and protect customer information. These challenges highlight the importance of ongoing evaluation and improvement of AI technologies to ensure their ethical and effective use in market analysis.\n",
        "Beyond traditional industries, emerging sectors are also leveraging AI-driven market analysis. The entertainment industry, for instance, uses AI to analyze audience preferences and predict the success of movies, series, or music releases. Financial services utilize AI for fraud detection, portfolio management, and customer segmentation. In agriculture, AI-powered analysis helps optimize and increase supply chain operations and predict market trends for crop pricing. These applications demonstrate the universal relevance and adaptability of AI technologies.\n",
        "\n",
        "Moreover, the future of market analysis is like integrating AI with other cutting-edge technologies. For instance, the combination of AI and Internet of Things (IoT) devices offers various opportunities for real-time analytics. Retail stores also with IoT sensors can gather data on customer behavior and preferences in real-time, enabling instant adjustments to inventory or promotional strategies. Similarly, thought blockchain technology can enhance the transparency and reliability of the data used in market analysis, addressing some ethical concerns.\n",
        "\n",
        "In conclusion, AI has become a significant tool for market analysis, transforming industries and empowering businesses to make data-driven decisions. Techniques such as NLP, predictive analytics, and real-time big data analysis have already made a huge contribution. While challenges like bias and privacy concerns still exist, continuous innovation and ethical considerations can mitigate these issues. Integrating AI with emerging technologies will further expand its scope in the future, creating a smarter and more efficient global market.\n",
        "\n",
        "\n",
        "# References:\n",
        "\n",
        "Brown, T. B., Mann, B., Ryder, N., et al. (2020). Language Models are Few-Shot Learners. arXiv preprint arXiv:2005.14165.\n",
        "\n",
        "Chong, E., Han, C., & Park, F. C. (2017). Deep Learning Networks for Stock Market Analysis and Prediction: Methodology, Data Representations, and Case Studies. Expert Systems with Applications, 83, 187-205.\n",
        "\n",
        "Jiang, K., Luo, B., Yu, Z., & Zhang, Z. (2021). Sentiment Analysis in Healthcare: A Systematic Review. Journal of Medical Internet Research, 23(5), e25190.\n",
        "\n",
        "Sun, C., Huang, L., & Qiu, X. (2019). Utilizing BERT for Aspect-Based Sentiment Analysis via Constructing Auxiliary Sentence. arXiv preprint arXiv:1903.09588.\n",
        "\n",
        "\n",
        "\n",
        "**Use of ChatGPT**: This literature review was prepared with assistance from ChatGPT, which helped synthesize knowledge from existing AI applications and research studies. Specific references were curated and aligned to reflect recent advancements in AI for market analysis.\n"
      ]
    },
    {
      "cell_type": "markdown",
      "metadata": {
        "id": "hZ4LkeFOVzD7"
      },
      "source": [
        "# Part – B\n",
        "# Compare and evaluate the AI techniques in Market Analysis:\n",
        "\n",
        "Here is the main market analysis application domain I planned to solve a sentiment analysis problem using the NLP technique. In the NLP technical domain, there are also some other subdomains we have to focus on which one is perfectly suited to our sentiment analysis problem. Below I listed the most appropriate techniques to solve this problem and you can see what the difference is in evaluating those and how it is feasible compared to the other techniques.\n",
        "\n",
        "\n",
        "**1.Transformer-Based Models (e.g., BERT):**\n",
        "\n",
        "\n",
        "Transformer-based models, particularly BERT (Bidirectional Encoder Representations from Transformers), have redefined the state of natural language processing (NLP). Built on self-attention mechanisms, BERT processes language to understand every aspect of both left and right contexts in a sentence. This contextual awareness makes BERT an exceptional tool for tasks like sentiment analysis, where a huge understanding of the text is crucial.\n",
        "BERT's architecture corporates multiple layers of attention mechanisms and neural connections, that enable it to model complex linguistic relationships. For sentiment analysis, captures subtleties such as sarcasm, idioms, and contextual shift elements that traditional models struggle with those. By pre-training on massive datasets and fine-tuning specific tasks, BERT achieves state-of-the-art results across a range of applications.\n",
        "\n",
        "**Strengths**\n",
        "\n",
        "\n",
        "The primary strength of BERT lies in its pre-training on diverse and extensive datasets, which allows it to generalize effectively across various domains. Its contextual embeddings enable a huge understanding of very complex sentences, distinguishing meanings based on surrounding words. For instance, in the sentence \"The battery life is great, but the camera quality is terrible,\" BERT can grasp the contrasting sentiments expressed about different aspects of a product. This ability to understand complex structures makes it ideal for sentiment analysis tasks, even in challenging datasets.\n",
        "\n",
        "**Weaknesses**\n",
        "\n",
        "\n",
        "Despite its robustness, BERT is computationally intensive. Training and fine-tuning require significant hardware resources, such as GPUs or TPUs, and substantial memory. This limitation makes real-time applications on resource-limited devices difficult. Moreover, fine-tuning BERT for domain-specific tasks requires careful hyperparameter tuning, which can be time-consuming and requires expertise. Otherwise, it may lead to the wrong identification.\n",
        "\n",
        "**Advantages**\n",
        "\n",
        "\n",
        "One of BERT’s key advantages is its ability to leverage transfer learning. With pre-trained weights, the need for large labeled datasets is reduced, which are often hard to obtain. This is particularly advantageous for sentiment analysis, where obtaining sentiment-labeled data for small domains can be challenging. Additionally, BERT handles complex linguistic tasks effectively, outperforming older models like SVM or simple deep learning architectures.\n",
        "\n",
        "**Disadvantages**\n",
        "\n",
        "\n",
        "While BERT provides accuracy, it often lacks interpretability. Explaining why BERT predicted a random sentiment (e.g. positive or negative) can be difficult, which is a drawback in applications where explainability is crucial. Furthermore, BERT's performance can degrade when exposed to outliers or domain-specific data unless adequately fine-tuned.\n",
        "\n",
        "**Example of Application**\n",
        "\n",
        "\n",
        "In practical applications, BERT can be fine-tuned on labeled sentiment datasets, such as customer reviews or tweets. Preprocessing involves tokenizing text, padding sequences, and providing the inputs into the model. The CLS token representation is then used for sentiment classification. For instance, customer reviews like \"The service was excellent but slow\" can be classified as positive or neutral based on BERT’s understanding of the context.\n",
        "BERT’s high performance makes it a leading choice for sentiment analysis, but its computational demands and complexity require considerably high requirements for specific use cases. As technology evolves, optimizing transformer-based models for efficiency may further improve their applicability across a sector range of sentiment analysis tasks.\n",
        "\n",
        "\n",
        "\n",
        "---\n",
        "\n",
        "\n",
        "**2.Support Vector Machines (SVM) with TF-IDF Features:**\n",
        "\n",
        "\n",
        "Support Vector Machines (SVM) paired with Term Frequency-Inverse Document Frequency (TF-IDF) features represent a traditional but effective approach to sentiment analysis. SVM, a supervised learning algorithm, aims to find an optimal hyperplane that separates data points into different classes. When combined with TF-IDF, which transforms text into numerical vectors based on word frequency, SVM becomes a powerful tool for text classification.\n",
        "\n",
        "**Strengths**\n",
        "\n",
        "\n",
        "SVM's simplicity and robustness make it particularly effective for small-to-medium-sized datasets. Using kernel functions enables SVM to handle non-linear relationships, providing flexibility in addressing diverse data patterns. In sentiment analysis, SVM performs well when applied to structured data, such as product reviews or survey responses, where clear patterns exist in the text. Additionally, its resistance to overfitting scenarios with reliable performance, even when training data is limited.\n",
        "\n",
        "**Weaknesses**\n",
        "\n",
        "\n",
        "The performance of SVM heavily relies on feature engineering. Since TF-IDF only captures word frequencies without knowing the word order or context, SVM struggles with complex linguistic structures, such as sarcasm or idioms. For instance, the sentence \"Great product, not worth the price\" may be misclassified as positive due to the emphasis on \"great product,\" ignoring the overall negative sentiment. Moreover, SVM is not well suited to large datasets, as its training time increases simultaneously with the size of the data.\n",
        "\n",
        "**Advantages**\n",
        "\n",
        "\n",
        "Despite its limitations, SVM is computationally efficient compared to deep learning models. Its simplicity makes it a good starting point for prototyping sentiment analysis models. Additionally, its interpretability allows users to identify which features (e.g. which negative or positive words) contribute most to a classification decision, providing transparency.\n",
        "\n",
        "**Disadvantages**\n",
        "\n",
        "\n",
        "The reliance on manual feature extraction is a significant point. Unlike deep learning models that learn hierarchical features from raw text, SVM depends on preprocessing steps like TF-IDF, which may overlook subtle semantic relationships. Furthermore, SVM is less effective for unbalanced datasets, as it struggles to accommodate less amount data having classes without additional techniques like oversampling.\n",
        "\n",
        "**Example of Application**\n",
        "\n",
        "An SVM classifier trained on movie reviews could classify text as positive or negative using TF-IDF feature vectors. For example, a review such as \"The movie was captivating and thrilling\" is converted into a numerical vector, and the SVM uses this representation to predict sentiment. While effective for basic applications, the approach is less suited for complex or large-scale tasks.\n",
        "Although SVM with TF-IDF is an older method, it remains a reliable option for small-scale sentiment analysis tasks, particularly when computational resources are limited. However, its inability to capture contextual information makes it less competitive in modern applications.\n",
        "\n",
        "\n",
        "\n",
        "---\n",
        "\n",
        "\n",
        "\n",
        "**3.CNN+LSTM Hybrid Model:**\n",
        "\n",
        "The CNN+LSTM hybrid model combines the strengths of Convolutional Neural Networks (CNNs) and Long Short-Term Memory (LSTM) networks, creating a versatile architecture for sentiment analysis. CNNs specialize in extracting local patterns, such as sequences analysis, from text embeddings, while LSTMs capture sequential dependencies, making this hybrid model particularly effective for handling complex textual data.\n",
        "\n",
        "**Strengths**\n",
        "\n",
        "This model offers a balanced approach to feature extraction and sequence modeling. CNNs efficiently identify patterns in text, such as frequently occurring word combinations, while LSTMs process the sequential nature of language, capturing dependencies across sentences. For sentiment analysis, this combination allows the model to understand both local and global linguistic features, making it suitable for a variety of data in the dataset.\n",
        "\n",
        "**Weaknesses**\n",
        "\n",
        "Despite its versatility, the CNN+LSTM model has limitations. Its ability to handle contextual information is pretty low to transformer-based models like BERT. Additionally, the reliance on pre-trained embeddings (e.g., Word2Vec, GloVe) makes the model vulnerable to out-of-vocabulary words, which are common in dynamic datasets like social media posts. Training and fine-tuning also require careful preprocessing, which can be time-consuming.\n",
        "\n",
        "**Advantages**\n",
        "\n",
        "The CNN+LSTM architecture provides a balance between simplicity and performance. Unlike transformer-based models, it has moderate computational requirements, making it more accessible for organizations with limited resources. Its scalability ensures that it performs well across different domains, from product reviews to survey responses.\n",
        "\n",
        "**Disadvantages**\n",
        "\n",
        "The hybrid model’s dependence on high-quality preprocessing can be a risk. Errors in preprocessing, such as poorly trained embeddings or insufficient cleaning, can significantly impact performance. Additionally, the model struggles with non-clear contexts, where multiple interpretations of a sentence exist.\n",
        "\n",
        "**Example of Application**\n",
        "\n",
        "In e-commerce, the CNN+LSTM model can analyze customer reviews to predict sentiment. For instance, a review like \"The delivery was quick, but the product quality was disappointing\" is preprocessed into embeddings, passed through CNN layers to identify patterns, and processed by LSTM layers to capture sequential patterns. The final output is a sentiment label, such as negative.\n",
        "Input Data: Preprocessed text embeddings converted into 2D tensors.\n",
        "Expected Output: Binary or multiclass sentiment labels, here it’s only binary (e.g., positive, negative).\n",
        "The CNN+LSTM model is a practical and efficient solution for sentiment analysis, particularly when balancing performance and computational resources are limited. While not as advanced as transformer-based models, it addresses many limitations of traditional methods, offering a robust approach for real-world applications.\n",
        "\n",
        "\n",
        "\n",
        "---\n",
        "\n",
        "\n",
        "\n",
        "Overall, finally I decided to go with the CNN+LSTM approach to this sentiment analysis problem because why from manually trained models this gives higher accuracy than the others and the best way to detect both sequential and pattern data.\n"
      ]
    },
    {
      "cell_type": "markdown",
      "metadata": {
        "id": "POIP8mcud5GG"
      },
      "source": [
        "# Part – C\n",
        "# Implementation\n",
        "\n",
        "\n",
        "Here as a data selection for this ml model, I selected three main datasets.\n",
        "\n",
        "•\tamazon.csv\n",
        "\n",
        "•\timdb.csv\n",
        "\n",
        "•\ttripAdvisor.csv\n",
        "\n",
        "from those datasets, I nearly got 100,000 data with a balance of positive and negative reviews for my sentiment analysis model. In every CSV file, I edit the label as positives for 2 and negatives for 1.\n",
        "\n",
        "After that, I import those to my ml model and pre-process those using some external libraries like ‘lemmatizer’, ‘stopwords’ and ‘wordnet’.\n",
        "In here I edit my CSV file labels to positives to 1 and negatives to 0. Because for easy understanding of the model (binary-wise). After doing the tokenization the text adjusts to get a more understanding than previous.\n",
        "\n",
        "Below I enter my current model architecture from a flowchart: -\n",
        "\n",
        "![Beige Colorful Minimal Flowchart Infographic Graph.png](data:image/png;base64,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)\n",
        "\n",
        "In my provided. ipynb file provided all the code needed for this model implementation."
      ]
    },
    {
      "cell_type": "code",
      "execution_count": null,
      "metadata": {
        "colab": {
          "base_uri": "https://localhost:8080/"
        },
        "id": "GWYz3-8hg4ka",
        "outputId": "08be5c48-ace9-475f-d0be-0640eac1bf09"
      },
      "outputs": [
        {
          "name": "stdout",
          "output_type": "stream",
          "text": [
            "Drive already mounted at /content/drive; to attempt to forcibly remount, call drive.mount(\"/content/drive\", force_remount=True).\n"
          ]
        }
      ],
      "source": [
        "from google.colab import drive\n",
        "drive.mount('/content/drive')"
      ]
    },
    {
      "cell_type": "code",
      "execution_count": null,
      "metadata": {
        "colab": {
          "base_uri": "https://localhost:8080/"
        },
        "id": "WJ4-qn2UbrH3",
        "outputId": "9f210cac-6bae-4d3f-d385-26ec2910b571"
      },
      "outputs": [
        {
          "name": "stdout",
          "output_type": "stream",
          "text": [
            "Requirement already satisfied: tensorflow in /usr/local/lib/python3.10/dist-packages (2.17.1)\n",
            "Requirement already satisfied: absl-py>=1.0.0 in /usr/local/lib/python3.10/dist-packages (from tensorflow) (1.4.0)\n",
            "Requirement already satisfied: astunparse>=1.6.0 in /usr/local/lib/python3.10/dist-packages (from tensorflow) (1.6.3)\n",
            "Requirement already satisfied: flatbuffers>=24.3.25 in /usr/local/lib/python3.10/dist-packages (from tensorflow) (24.3.25)\n",
            "Requirement already satisfied: gast!=0.5.0,!=0.5.1,!=0.5.2,>=0.2.1 in /usr/local/lib/python3.10/dist-packages (from tensorflow) (0.6.0)\n",
            "Requirement already satisfied: google-pasta>=0.1.1 in /usr/local/lib/python3.10/dist-packages (from tensorflow) (0.2.0)\n",
            "Requirement already satisfied: h5py>=3.10.0 in /usr/local/lib/python3.10/dist-packages (from tensorflow) (3.12.1)\n",
            "Requirement already satisfied: libclang>=13.0.0 in /usr/local/lib/python3.10/dist-packages (from tensorflow) (18.1.1)\n",
            "Requirement already satisfied: ml-dtypes<0.5.0,>=0.3.1 in /usr/local/lib/python3.10/dist-packages (from tensorflow) (0.4.1)\n",
            "Requirement already satisfied: opt-einsum>=2.3.2 in /usr/local/lib/python3.10/dist-packages (from tensorflow) (3.4.0)\n",
            "Requirement already satisfied: packaging in /usr/local/lib/python3.10/dist-packages (from tensorflow) (24.2)\n",
            "Requirement already satisfied: protobuf!=4.21.0,!=4.21.1,!=4.21.2,!=4.21.3,!=4.21.4,!=4.21.5,<5.0.0dev,>=3.20.3 in /usr/local/lib/python3.10/dist-packages (from tensorflow) (4.25.5)\n",
            "Requirement already satisfied: requests<3,>=2.21.0 in /usr/local/lib/python3.10/dist-packages (from tensorflow) (2.32.3)\n",
            "Requirement already satisfied: setuptools in /usr/local/lib/python3.10/dist-packages (from tensorflow) (75.1.0)\n",
            "Requirement already satisfied: six>=1.12.0 in /usr/local/lib/python3.10/dist-packages (from tensorflow) (1.17.0)\n",
            "Requirement already satisfied: termcolor>=1.1.0 in /usr/local/lib/python3.10/dist-packages (from tensorflow) (2.5.0)\n",
            "Requirement already satisfied: typing-extensions>=3.6.6 in /usr/local/lib/python3.10/dist-packages (from tensorflow) (4.12.2)\n",
            "Requirement already satisfied: wrapt>=1.11.0 in /usr/local/lib/python3.10/dist-packages (from tensorflow) (1.17.0)\n",
            "Requirement already satisfied: grpcio<2.0,>=1.24.3 in /usr/local/lib/python3.10/dist-packages (from tensorflow) (1.68.1)\n",
            "Requirement already satisfied: tensorboard<2.18,>=2.17 in /usr/local/lib/python3.10/dist-packages (from tensorflow) (2.17.1)\n",
            "Requirement already satisfied: keras>=3.2.0 in /usr/local/lib/python3.10/dist-packages (from tensorflow) (3.5.0)\n",
            "Requirement already satisfied: tensorflow-io-gcs-filesystem>=0.23.1 in /usr/local/lib/python3.10/dist-packages (from tensorflow) (0.37.1)\n",
            "Requirement already satisfied: numpy<2.0.0,>=1.23.5 in /usr/local/lib/python3.10/dist-packages (from tensorflow) (1.26.4)\n",
            "Requirement already satisfied: wheel<1.0,>=0.23.0 in /usr/local/lib/python3.10/dist-packages (from astunparse>=1.6.0->tensorflow) (0.45.1)\n",
            "Requirement already satisfied: rich in /usr/local/lib/python3.10/dist-packages (from keras>=3.2.0->tensorflow) (13.9.4)\n",
            "Requirement already satisfied: namex in /usr/local/lib/python3.10/dist-packages (from keras>=3.2.0->tensorflow) (0.0.8)\n",
            "Requirement already satisfied: optree in /usr/local/lib/python3.10/dist-packages (from keras>=3.2.0->tensorflow) (0.13.1)\n",
            "Requirement already satisfied: charset-normalizer<4,>=2 in /usr/local/lib/python3.10/dist-packages (from requests<3,>=2.21.0->tensorflow) (3.4.0)\n",
            "Requirement already satisfied: idna<4,>=2.5 in /usr/local/lib/python3.10/dist-packages (from requests<3,>=2.21.0->tensorflow) (3.10)\n",
            "Requirement already satisfied: urllib3<3,>=1.21.1 in /usr/local/lib/python3.10/dist-packages (from requests<3,>=2.21.0->tensorflow) (2.2.3)\n",
            "Requirement already satisfied: certifi>=2017.4.17 in /usr/local/lib/python3.10/dist-packages (from requests<3,>=2.21.0->tensorflow) (2024.12.14)\n",
            "Requirement already satisfied: markdown>=2.6.8 in /usr/local/lib/python3.10/dist-packages (from tensorboard<2.18,>=2.17->tensorflow) (3.7)\n",
            "Requirement already satisfied: tensorboard-data-server<0.8.0,>=0.7.0 in /usr/local/lib/python3.10/dist-packages (from tensorboard<2.18,>=2.17->tensorflow) (0.7.2)\n",
            "Requirement already satisfied: werkzeug>=1.0.1 in /usr/local/lib/python3.10/dist-packages (from tensorboard<2.18,>=2.17->tensorflow) (3.1.3)\n",
            "Requirement already satisfied: MarkupSafe>=2.1.1 in /usr/local/lib/python3.10/dist-packages (from werkzeug>=1.0.1->tensorboard<2.18,>=2.17->tensorflow) (3.0.2)\n",
            "Requirement already satisfied: markdown-it-py>=2.2.0 in /usr/local/lib/python3.10/dist-packages (from rich->keras>=3.2.0->tensorflow) (3.0.0)\n",
            "Requirement already satisfied: pygments<3.0.0,>=2.13.0 in /usr/local/lib/python3.10/dist-packages (from rich->keras>=3.2.0->tensorflow) (2.18.0)\n",
            "Requirement already satisfied: mdurl~=0.1 in /usr/local/lib/python3.10/dist-packages (from markdown-it-py>=2.2.0->rich->keras>=3.2.0->tensorflow) (0.1.2)\n"
          ]
        }
      ],
      "source": [
        "!pip install tensorflow\n",
        "import torch\n",
        "import tensorflow as tf\n",
        "import pandas as pd\n",
        "import numpy as np\n",
        "import re\n",
        "import nltk\n",
        "import joblib\n",
        "import matplotlib.pyplot as plt\n",
        "import seaborn as sns\n",
        "from bs4 import BeautifulSoup\n",
        "from tensorflow.keras.layers import Input\n",
        "from sklearn.model_selection import train_test_split\n",
        "from sklearn.metrics import accuracy_score, classification_report, confusion_matrix, roc_curve, auc, precision_score, f1_score\n",
        "from sklearn.model_selection import KFold\n",
        "from sklearn.ensemble import RandomForestClassifier\n",
        "from sklearn.feature_extraction.text import TfidfVectorizer\n",
        "from sklearn.utils.class_weight import compute_class_weight\n",
        "from transformers import BertModel, BertTokenizer, TFBertModel\n",
        "from sklearn.decomposition import PCA\n",
        "from sklearn.preprocessing import StandardScaler\n",
        "from tensorflow.keras.preprocessing.text import Tokenizer\n",
        "from tensorflow.keras.preprocessing.sequence import pad_sequences\n",
        "from tensorflow.keras.models import Sequential, Model, load_model\n",
        "from tensorflow.keras.layers import (Embedding, Conv1D, MaxPooling1D, LSTM, Dense, Dropout, BatchNormalization)\n",
        "from tensorflow.keras.optimizers import Adam\n",
        "from tensorflow.keras.utils import to_categorical\n",
        "from tensorflow.keras.callbacks import EarlyStopping, ModelCheckpoint, ReduceLROnPlateau\n",
        "from graphviz import Digraph"
      ]
    },
    {
      "cell_type": "markdown",
      "metadata": {
        "id": "8PgEVcukGUtz"
      },
      "source": [
        "# Data handling(import) and pre-processing"
      ]
    },
    {
      "cell_type": "code",
      "execution_count": null,
      "metadata": {
        "colab": {
          "base_uri": "https://localhost:8080/"
        },
        "id": "nBqerES7b8_S",
        "outputId": "e2a529dd-3739-4d9a-d5df-3685b903ea21"
      },
      "outputs": [
        {
          "name": "stderr",
          "output_type": "stream",
          "text": [
            "[nltk_data] Downloading package stopwords to /root/nltk_data...\n",
            "[nltk_data]   Package stopwords is already up-to-date!\n",
            "[nltk_data] Downloading package wordnet to /root/nltk_data...\n",
            "[nltk_data]   Package wordnet is already up-to-date!\n"
          ]
        },
        {
          "name": "stdout",
          "output_type": "stream",
          "text": [
            "   label                                               text\n",
            "0      1  This is a self-published book, and if you want...\n",
            "1      1  A complete waste of time. Typographical errors...\n",
            "2      1  I guess you have to be a romance novel lover f...\n",
            "3      1  I feel I have to write to keep others from was...\n",
            "4      1  It's glaringly obvious that all of the glowing...\n"
          ]
        },
        {
          "name": "stderr",
          "output_type": "stream",
          "text": [
            "<ipython-input-3-8ca7ac35fd0c>:11: MarkupResemblesLocatorWarning: The input looks more like a filename than markup. You may want to open this file and pass the filehandle into Beautiful Soup.\n",
            "  text = BeautifulSoup(text, \"html.parser\").get_text()  # Remove HTML tags\n"
          ]
        }
      ],
      "source": [
        "# Ensure NLTK resources are available\n",
        "nltk.download('stopwords')\n",
        "nltk.download('wordnet')\n",
        "\n",
        "# Define global variables\n",
        "stop_words = set(nltk.corpus.stopwords.words('english'))\n",
        "lemmatizer = nltk.stem.WordNetLemmatizer()\n",
        "\n",
        "# Function to clean text\n",
        "def clean_text(text):\n",
        "    text = BeautifulSoup(text, \"html.parser\").get_text()  # Remove HTML tags\n",
        "    text = re.sub(r\"[^a-zA-Z0-9\\s]\", \"\", text)  # Remove special characters\n",
        "    text = text.lower()  # Convert to lowercase\n",
        "    # Remove stop words and retain 'no' words\n",
        "    negations = {\"not\", \"no\", \"never\", \"n't\"}\n",
        "    words = [word for word in text.split() if word not in stop_words or word in negations]\n",
        "    words = [lemmatizer.lemmatize(word) for word in words]  # Lemmatization\n",
        "    return \" \".join(words)\n",
        "\n",
        "# Load and preprocess dataset (Replace with your dataset) ***update the correct path***\n",
        "file_paths = [\n",
        "    \"/content/drive/MyDrive/Applied AI/CW/amazon.csv\",\n",
        "    \"/content/drive/MyDrive/Applied AI/CW/tripadvisor.csv\",\n",
        "    \"/content/drive/MyDrive/Applied AI/CW/IMDB.csv\"\n",
        "]\n",
        "\n",
        "# List to hold individual datasets\n",
        "datasets = []\n",
        "\n",
        "# Load and preprocess each dataset\n",
        "for file_path in file_paths:\n",
        "    temp_data = pd.read_csv(file_path)  # Load the dataset\n",
        "    datasets.append(temp_data)         # Append it to the list\n",
        "\n",
        "# Combine all datasets into a single DataFrame\n",
        "data = pd.concat(datasets, ignore_index=True)\n",
        "print(data.head())\n",
        "data['text'] = data['text'].apply(clean_text)"
      ]
    },
    {
      "cell_type": "markdown",
      "metadata": {
        "id": "uOV2DhEEGk9p"
      },
      "source": [
        "# Data mapping"
      ]
    },
    {
      "cell_type": "code",
      "execution_count": null,
      "metadata": {
        "id": "wFr0hhbwcHTX"
      },
      "outputs": [],
      "source": [
        "# Splitting the dataset\n",
        "X = data['text']\n",
        "label_mapping = {1: 0, 2: 1}  # Adjust as needed\n",
        "data['label'] = data['label'].map(label_mapping)\n",
        "y = data['label']  # Ensure label is numerical\n",
        "\n",
        "X_train, X_test, y_train, y_test = train_test_split(X, y, test_size=0.2, stratify=y, random_state=42)"
      ]
    },
    {
      "cell_type": "markdown",
      "metadata": {
        "id": "x_BgZynbG2sM"
      },
      "source": [
        "# Data converting into numerical values"
      ]
    },
    {
      "cell_type": "code",
      "execution_count": null,
      "metadata": {
        "id": "FbFQUfMmcKfE"
      },
      "outputs": [],
      "source": [
        "# Tokenize and pad sequences\n",
        "max_words = 20000\n",
        "max_len = 100\n",
        "tokenizer = Tokenizer(num_words=max_words, oov_token=\"<OOV>\")\n",
        "tokenizer.fit_on_texts(X_train)\n",
        "X_train_seq = tokenizer.texts_to_sequences(X_train)\n",
        "X_test_seq = tokenizer.texts_to_sequences(X_test)\n",
        "X_train_pad = pad_sequences(X_train_seq, maxlen=max_len, padding='post')\n",
        "X_test_pad = pad_sequences(X_test_seq, maxlen=max_len, padding='post')\n",
        "\n",
        "# Convert labels to categorical\n",
        "y_train_cat = to_categorical(y_train)\n",
        "y_test_cat = to_categorical(y_test)"
      ]
    },
    {
      "cell_type": "markdown",
      "metadata": {
        "id": "5yXuGjNYG9pG"
      },
      "source": [
        "# Feature extraction"
      ]
    },
    {
      "cell_type": "code",
      "execution_count": null,
      "metadata": {
        "id": "YMmGJD_xWXMu"
      },
      "outputs": [],
      "source": [
        "# Load pretrained GloVe embeddings\n",
        "embedding_dim = 100\n",
        "embedding_index = {}\n",
        "# ***update the correct path***\n",
        "with open(\"/content/drive/MyDrive/Applied AI/CW/glove.6B.100d.txt\", \"r\", encoding=\"utf-8\") as f:\n",
        "    for line in f:\n",
        "        values = line.split()\n",
        "        word = values[0]\n",
        "        coeffs = np.asarray(values[1:], dtype='float32')\n",
        "        embedding_index[word] = coeffs\n",
        "\n",
        "# Create embedding matrix\n",
        "word_index = tokenizer.word_index\n",
        "embedding_matrix = np.zeros((max_words, embedding_dim))\n",
        "for word, i in word_index.items():\n",
        "    if i < max_words:\n",
        "        embedding_vector = embedding_index.get(word)\n",
        "        if embedding_vector is not None:\n",
        "            embedding_matrix[i] = embedding_vector"
      ]
    },
    {
      "cell_type": "markdown",
      "metadata": {
        "id": "5gIdrVrRHEz5"
      },
      "source": [
        "# Architecture building and tranning process happen"
      ]
    },
    {
      "cell_type": "code",
      "execution_count": null,
      "metadata": {
        "id": "c_DSKwhTWa6f"
      },
      "outputs": [],
      "source": [
        "# Compute class weights\n",
        "class_weights = compute_class_weight('balanced', classes=np.unique(y_train), y=y_train) # Access the 'label' column\n",
        "class_weights = dict(enumerate(class_weights))\n",
        "\n",
        "# Build the CNN+LSTM model\n",
        "cnn_lstm_model = Sequential([\n",
        "    Embedding(input_dim=max_words, output_dim=embedding_dim, weights=[embedding_matrix],\n",
        "              input_length=max_len, trainable=False),\n",
        "    Conv1D(filters=128, kernel_size=5, activation='relu'),\n",
        "    MaxPooling1D(pool_size=2),  # Adjust pool_size, strides, and padding if necessary\n",
        "    BatchNormalization(),\n",
        "    LSTM(128, return_sequences=False),\n",
        "    Dropout(0.4),  # Adjusted dropout rate\n",
        "    Dense(64, activation='relu'),\n",
        "    BatchNormalization(),  # Added Batch Normalization\n",
        "    Dropout(0.4),  # Adjusted dropout rate\n",
        "    Dense(y_train_cat.shape[1], activation='softmax')\n",
        "])\n",
        "\n",
        "# Compile the model\n",
        "cnn_lstm_model.compile(optimizer=Adam(learning_rate=0.0005), loss='categorical_crossentropy', metrics=['accuracy'])\n",
        "\n",
        "# Train the model with early stopping\n",
        "early_stopping = EarlyStopping(monitor='val_loss', patience=3, restore_best_weights=True)\n",
        "reduce_lr = ReduceLROnPlateau(monitor='val_loss', factor=0.5, patience=2, min_lr=1e-6, verbose=1)\n",
        "model_checkpoint = ModelCheckpoint('best_model.keras', monitor='val_loss', save_best_only=True, verbose=1)\n",
        "\n",
        "history = cnn_lstm_model.fit(\n",
        "    X_train_pad, y_train_cat,\n",
        "    epochs=50,\n",
        "    batch_size=32,\n",
        "    validation_split=0.2,\n",
        "    verbose=1,\n",
        "    class_weight=class_weights,\n",
        "    # callbacks=[reduce_lr, model_checkpoint]\n",
        ")\n",
        "\n",
        "# ***update the correct path***\n",
        "cnn_lstm_model.save('/content/drive/MyDrive/Applied AI/CW/cnn_lstm_model.keras')"
      ]
    },
    {
      "cell_type": "markdown",
      "metadata": {
        "id": "qSUm0knmWzmx"
      },
      "source": [
        "# Part – D\n",
        "# Testing:\n",
        "\n",
        "Normally I did the testing from earlier split data from 80:10:10 ratio. From that using 10 percent we can do the testing as a traditionally. Not only that classification report also provides another great view of our model. It’s comes under evaluation also. But the important point here is\n",
        "\n",
        "•\tROC-AUC curve\n",
        "\n",
        "•\tCross-validation method\n",
        "\n",
        "Both are very good at conducting testing, especially classification problems and instead of accuracy level in cross-validation methods like this kind of neural network makes more sense to get an idea of the model or else it tests results. Below you can see that also and compare the model with other appropriate models.\n",
        "\n",
        "In that situation, my current CNN+LSTM model did not the highest marks because it completed training from the very beginning. Other two like BERT and PCA also tried the data from pre-trained models."
      ]
    },
    {
      "cell_type": "markdown",
      "metadata": {
        "id": "AA4f4khbW2sH"
      },
      "source": [
        "# Part – E\n",
        "# Evaluation:\n",
        "\n",
        "In the evaluation process you can see below the values of accuracy, precision, f1 score and the most important thing is the confusion matrix. A confusion matrix can be able to display from our whole dataset how much data can be correctly positively predicted and how much wrong data can negatively selected. In below picture provides a clear idea of how it does and from it, we also can learn where to improve.\n",
        "\n",
        "In the code, you can see that only considering the accuracy is not valid. Some we have to go much deeper to analyze the data. Especially like confusion matrix positive rate and negative rate. Only from that in some cases we can have a complete idea on how the model works and where to improve.\n",
        "\n",
        "\n",
        "**Limitation:**\n",
        "\n",
        "\n",
        "The main limitation is the domain-specific data. Currently, I am try to build a model containing different aspects of data. But from that accuracy becomes a little bit low. Even the pre-trained models like BERT also fully specify for domain-specific data. If there are data from various sectors model will be confused. I hope from the rapid development of AI this will resolved soon.\n",
        "The next important thing is I currently build this from google colab and it can’t develop the model with more data. Because it takes more time to pre-process and more time to train. The Colab free version doesn’t provide that much time is another limitation for me faced during here.\n",
        "\n",
        "\n",
        "As a summary according to all the implementation codes in above you can see this sentiment analysis project forecast and how the results should be the outcome in as a binary classification model. From those techniques, you also can analyze how the AI model needs to be in the future, what the best-case scenarios need to be and how we reach them. How we outperform the limitations here and how we target it. After all, building a better AI world is the ultimate goal of every point.\n"
      ]
    },
    {
      "cell_type": "code",
      "execution_count": null,
      "metadata": {
        "colab": {
          "base_uri": "https://localhost:8080/"
        },
        "id": "cc9ym-F2bsri",
        "outputId": "2e629529-f0cc-4d9b-8692-5fcfc05b7b74"
      },
      "outputs": [
        {
          "name": "stdout",
          "output_type": "stream",
          "text": [
            "Accuracy (CNN+LSTM): 78.63%\n",
            "\n"
          ]
        }
      ],
      "source": [
        "# ***update the correct path***\n",
        "cnn_lstm_model = load_model('/content/drive/MyDrive/Applied AI/CW/cnn_lstm_model.keras')\n",
        "\n",
        "cnn_lstm_accuracy = cnn_lstm_model.evaluate(X_test_pad, y_test_cat, verbose=0)[1] * 100\n",
        "print(f\"Accuracy (CNN+LSTM): {cnn_lstm_accuracy:.2f}%\\n\")"
      ]
    },
    {
      "cell_type": "code",
      "execution_count": null,
      "metadata": {
        "colab": {
          "base_uri": "https://localhost:8080/",
          "height": 776
        },
        "id": "qdOUtEuFO_zK",
        "outputId": "1c5c6a8e-2e88-46b3-e735-914e865e95b6"
      },
      "outputs": [
        {
          "name": "stdout",
          "output_type": "stream",
          "text": [
            "Confusion Matrix:\n",
            "Classification Report:\n",
            "\u001b[1m94/94\u001b[0m \u001b[32m━━━━━━━━━━━━━━━━━━━━\u001b[0m\u001b[37m\u001b[0m \u001b[1m3s\u001b[0m 33ms/step\n",
            "              precision    recall  f1-score   support\n",
            "\n",
            "           0       0.95      0.87      0.91      1525\n",
            "           1       0.88      0.95      0.91      1475\n",
            "\n",
            "    accuracy                           0.91      3000\n",
            "   macro avg       0.91      0.91      0.91      3000\n",
            "weighted avg       0.92      0.91      0.91      3000\n",
            "\n",
            "Precision (Macro): 0.91\n",
            "F1-Score (Macro): 0.91\n",
            "Cross-Validation Accuracies: [0.4976666569709778, 0.5026666522026062, 0.49966666102409363, 0.5009999871253967, 0.5040000081062317]\n",
            "Mean Accuracy: 0.5009999930858612\n",
            "\n"
          ]
        },
        {
          "data": {
            "image/png": "[encoded data removed]",
            "text/plain": [
              "<Figure size 640x480 with 1 Axes>"
            ]
          },
          "metadata": {},
          "output_type": "display_data"
        }
      ],
      "source": [
        "# Evaluate the model\n",
        "# Calculate the confusion matrix\n",
        "y_pred = cnn_lstm_model.predict(X_test_pad)\n",
        "y_pred_classes = np.argmax(y_pred, axis=1)\n",
        "conf_matrix = confusion_matrix(y_test, y_pred_classes)\n",
        "\n",
        "# Plot the confusion matrix\n",
        "plt.figure(figsize=(6, 6))\n",
        "sns.heatmap(conf_matrix, annot=True, fmt=\"d\", cmap=\"Blues\", xticklabels=[\"Negative\", \"Positive\"], yticklabels=[\"Negative\", \"Positive\"])\n",
        "plt.xlabel(\"Predicted\")\n",
        "plt.ylabel(\"True\")\n",
        "plt.title(\"Confusion Matrix\")\n",
        "plt.show()\n",
        "\n",
        "print(\"\\nConfusion Matrix:\")\n",
        "print(\"Classification Report:\")\n",
        "print(classification_report(y_test, y_pred_classes))\n",
        "\n",
        "# Precision and F1-Score\n",
        "# Macro-average (across all classes equally)\n",
        "precision = precision_score(y_test, y_pred_classes, average='macro')\n",
        "f1 = f1_score(y_test, y_pred_classes, average='macro')\n",
        "\n",
        "# Print Precision and F1-Score\n",
        "print(f\"Precision (Macro): {precision:.2f}\")\n",
        "print(f\"F1-Score (Macro): {f1:.2f}\")\n",
        "\n",
        "# Initialize k-fold cross-validation\n",
        "kfold = KFold(n_splits=5, shuffle=True, random_state=42)\n",
        "\n",
        "# Placeholder for storing results\n",
        "fold_accuracies = []\n",
        "\n",
        "for train_idx, test_idx in kfold.split(X, y):\n",
        "    X_train, X_test = X[train_idx], X[test_idx]\n",
        "    y_train, y_test = y[train_idx], y[test_idx]\n",
        "\n",
        "    # Train the CNN+LSTM model on the current fold\n",
        "    # cnn_lstm_model.fit(X_train, y_train, epochs=5, batch_size=32, verbose=0)\n",
        "\n",
        "    X_test_seq = tokenizer.texts_to_sequences(X_test) # Tokenize text data in X_test\n",
        "    X_test_pad = pad_sequences(X_test_seq, maxlen=max_len, padding='post') # Pad the sequences\n",
        "\n",
        "    # Evaluate on the current fold's test set\n",
        "    _, accuracy = cnn_lstm_model.evaluate(X_test_pad, y_test_cat, verbose=0)\n",
        "    fold_accuracies.append(accuracy)\n",
        "\n",
        "print(f\"Cross-Validation Accuracies: {fold_accuracies}\")\n",
        "print(f\"Mean Accuracy: {np.mean(fold_accuracies)}\\n\")\n",
        "\n",
        "y_score = y_pred[:, 1]  # Probabilities for the positive class\n",
        "fpr, tpr, _ = roc_curve(y_test, y_score)\n",
        "roc_auc = auc(fpr, tpr)\n",
        "\n",
        "# Plot ROC curve\n",
        "plt.figure()\n",
        "plt.plot(fpr, tpr, color='darkorange', label=f\"ROC curve (area = {roc_auc:.2f})\")\n",
        "plt.plot([0, 1], [0, 1], color='navy', linestyle='--')\n",
        "plt.xlabel('False Positive Rate')\n",
        "plt.ylabel('True Positive Rate')\n",
        "plt.title('Receiver Operating Characteristic')\n",
        "plt.legend(loc=\"lower right\")\n",
        "plt.show()"
      ]
    },
    {
      "cell_type": "code",
      "execution_count": null,
      "metadata": {
        "id": "F_FzHIU8WDxI"
      },
      "outputs": [],
      "source": [
        "# Load BERT tokenizer\n",
        "tokenizer1 = BertTokenizer.from_pretrained('bert-base-uncased')\n",
        "\n",
        "# Tokenize and encode sequences\n",
        "def tokenize_and_encode(texts, max_length=128):\n",
        "    if isinstance(texts, pd.DataFrame):\n",
        "        texts = texts['text'].astype(str).tolist()\n",
        "    elif isinstance(texts, pd.Series):\n",
        "         texts = texts.astype(str).tolist()\n",
        "    tokens = tokenizer1(\n",
        "        texts,\n",
        "        padding=True,\n",
        "        truncation=True,\n",
        "        max_length=max_length,\n",
        "        return_tensors=\"np\"\n",
        "    )\n",
        "    return tokens['input_ids']\n",
        "\n",
        "X_train_encoded = tokenize_and_encode(X_train)  # Pass the 'text' column\n",
        "X_test_encoded = tokenize_and_encode(X_test)  # Pass the 'text' column\n",
        "\n",
        "def bert_tokenize(texts, max_len=128):\n",
        "    encoded = tokenizer1.batch_encode_plus(\n",
        "        texts.tolist(),\n",
        "        max_length=max_len,\n",
        "        padding='max_length',\n",
        "        truncation=True,\n",
        "        return_tensors=\"np\"\n",
        "    )\n",
        "    return encoded['input_ids'], encoded['attention_mask']\n",
        "\n",
        "X_ids, X_masks = bert_tokenize(data['text'])\n",
        "\n",
        "# BERT Embedding Extraction\n",
        "bert_model = TFBertModel.from_pretrained('bert-base-uncased')\n",
        "batch_size = 32\n",
        "bert_embeddings = []\n",
        "\n",
        "for i in range(0, len(X_ids), batch_size):\n",
        "    batch_ids = X_ids[i:i+batch_size]\n",
        "    batch_masks = X_masks[i:i+batch_size]\n",
        "\n",
        "    # Generate embeddings for the batch\n",
        "    batch_embeddings = tf.reduce_mean(bert_model(batch_ids, attention_mask=batch_masks).last_hidden_state, axis=1)\n",
        "    bert_embeddings.append(batch_embeddings)\n",
        "\n",
        "# Combine all batches into a single array\n",
        "bert_embeddings = np.vstack(bert_embeddings)\n",
        "# ***update the correct path***\n",
        "np.save(\"/content/drive/MyDrive/Applied AI/CW/bert_embeddings.npy\", bert_embeddings)\n",
        "bert_embeddings = np.load(\"/content/drive/MyDrive/Applied AI/CW/bert_embeddings.npy\")\n",
        "\n",
        "# X_train, X_test, y_train, y_test = train_test_split(bert_embeddings, y, test_size=0.2, random_state=42)"
      ]
    },
    {
      "cell_type": "code",
      "execution_count": null,
      "metadata": {
        "id": "6bvdVCdbWPWK"
      },
      "outputs": [],
      "source": [
        "# Pad sequences for CNN+LSTM compatibility\n",
        "max_len = 128\n",
        "X_train_padded = pad_sequences(X_train_encoded, maxlen=max_len, padding='post')\n",
        "X_test_padded = pad_sequences(X_test_encoded, maxlen=max_len, padding='post')"
      ]
    },
    {
      "cell_type": "code",
      "execution_count": null,
      "metadata": {
        "colab": {
          "base_uri": "https://localhost:8080/"
        },
        "id": "izo-tkb3WT8x",
        "outputId": "c9bcf87e-1b17-4528-9e69-ac2c75d73555"
      },
      "outputs": [
        {
          "name": "stdout",
          "output_type": "stream",
          "text": [
            "label\n",
            "0    7500\n",
            "1    7500\n",
            "Name: count, dtype: int64\n"
          ]
        }
      ],
      "source": [
        "# Apply PCA to reduce dimensions pca = PCA(n_components=100)\n",
        "pca = PCA(n_components=min(X_train_pad.shape[0], X_train_pad.shape[1]))  # Adjust n_components\n",
        "X_train_reduced = pca.fit_transform(X_train_pad)\n",
        "X_test_reduced = pca.transform(X_test_pad)\n",
        "\n",
        "pca_embeddings = pca.fit_transform(bert_embeddings)\n",
        "print(y.value_counts())\n",
        "X_train_pca, X_test_pca, y_train_pca, y_test_pca = train_test_split(pca_embeddings, y, test_size=0.2, random_state=42)"
      ]
    },
    {
      "cell_type": "code",
      "execution_count": null,
      "metadata": {
        "colab": {
          "base_uri": "https://localhost:8080/"
        },
        "id": "oIXscX0nWr9o",
        "outputId": "62a8ded0-3b0c-46fe-914f-87051a861a34"
      },
      "outputs": [
        {
          "name": "stdout",
          "output_type": "stream",
          "text": [
            "\u001b[1m469/469\u001b[0m \u001b[32m━━━━━━━━━━━━━━━━━━━━\u001b[0m\u001b[37m\u001b[0m \u001b[1m1s\u001b[0m 2ms/step\n",
            "label\n",
            "0    7500\n",
            "1    7500\n",
            "Name: count, dtype: int64\n"
          ]
        }
      ],
      "source": [
        "# Define the autoencoder architecture\n",
        "input_dim = bert_embeddings.shape[1]  # Dimension of BERT embeddings\n",
        "encoding_dim = 100  # Reduced dimensionality (tunable)\n",
        "\n",
        "# Encoder\n",
        "input_layer = Input(shape=(input_dim,))\n",
        "encoded = Dense(encoding_dim, activation='relu', kernel_regularizer='l2')(input_layer)\n",
        "encoded = Dropout(0.2)(encoded)  # Dropout for regularization\n",
        "\n",
        "# Decoder\n",
        "decoded = Dense(input_dim, activation='sigmoid')(encoded)\n",
        "\n",
        "# Build the autoencoder model\n",
        "autoencoder = Model(input_layer, decoded)\n",
        "\n",
        "# Encoder model (used to extract reduced features)\n",
        "encoder = Model(input_layer, encoded)\n",
        "\n",
        "pca = PCA(n_components=0.95)  # Retain 95% of the variance\n",
        "pca_embeddings = pca.fit_transform(bert_embeddings)\n",
        "\n",
        "# Early stopping callback\n",
        "early_stopping = EarlyStopping(monitor='val_loss', patience=5, restore_best_weights=True)\n",
        "\n",
        "# Compile the autoencoder\n",
        "autoencoder.compile(optimizer='adam', loss=tf.keras.losses.CosineSimilarity())\n",
        "\n",
        "# Train the autoencoder\n",
        "autoencoder.fit(bert_embeddings, bert_embeddings, epochs=50, batch_size=32, validation_split=0.2)\n",
        "# autoencoder.fit(bert_embeddings, bert_embeddings, epochs=50, batch_size=32, shuffle=True, validation_split=0.2, callbacks=[early_stopping])\n",
        "autoencoder.save('/content/drive/MyDrive/Applied AI/CW/autoencoder.keras')\n",
        "\n",
        "# Load the trained autoencoder model ***update the correct path***\n",
        "autoencoder = load_model('/content/drive/MyDrive/Applied AI/CW/autoencoder.keras', custom_objects={'CosineSimilarity': tf.keras.losses.CosineSimilarity})\n",
        "\n",
        "# Define the encoder model (from the loaded autoencoder)\n",
        "# Extract the encoded (bottleneck) layer\n",
        "encoder = Model(autoencoder.input, autoencoder.layers[1].output)\n",
        "\n",
        "# Extract the reduced features using the encoder\n",
        "reduced_features = encoder.predict(bert_embeddings)\n",
        "\n",
        "# Normalize the reduced features\n",
        "scaler = StandardScaler()\n",
        "bert_reduced_features = scaler.fit_transform(reduced_features)\n",
        "print(y.value_counts())\n",
        "X_train_red, X_test_red, y_train_red, y_test_red = train_test_split(bert_reduced_features, y, test_size=0.2, random_state=42)"
      ]
    },
    {
      "cell_type": "code",
      "execution_count": null,
      "metadata": {
        "colab": {
          "base_uri": "https://localhost:8080/",
          "height": 595
        },
        "id": "X53tutQnXK2z",
        "outputId": "c375f83a-ff05-4cb0-cd0a-777c8e3bd9a7"
      },
      "outputs": [
        {
          "name": "stdout",
          "output_type": "stream",
          "text": [
            "Accuracy (Raw BERT): 83.10%\n",
            "\n",
            "Accuracy (PCA-Reduced): 78.80%\n",
            "\n",
            "Accuracy (Autoencoder-Reduced): 78.53%\n",
            "\n"
          ]
        },
        {
          "data": {
            "image/png": "[encoded data removed]",
            "text/plain": [
              "<Figure size 640x480 with 1 Axes>"
            ]
          },
          "metadata": {},
          "output_type": "display_data"
        },
        {
          "data": {
            "application/vnd.google.colaboratory.intrinsic+json": {
              "type": "string"
            },
            "text/plain": [
              "' joblib.dump(rf_auto, \"random_forest_model_auto.pkl\")\\njoblib.dump(rf_pca, \"random_forest_model_pca.pkl\")\\njoblib.dump(rf_raw, \"random_forest_model_raw.pkl\")\\njoblib.dump(encoder, \"autoencoder_model.pkl\")\\njoblib.dump(scaler, \"scaler.pkl\")  # If you used scaling\\njoblib.dump(pca, \"pca_model.pkl\")  # If PCA was used (optional)'"
            ]
          },
          "execution_count": 13,
          "metadata": {},
          "output_type": "execute_result"
        }
      ],
      "source": [
        "# Create a TF-IDF vectorizer\n",
        "vectorizer = TfidfVectorizer(max_features=5000)  # You can adjust max_features\n",
        "\n",
        "# Fit the vectorizer to the training data and transform it\n",
        "X_train_tfidf = vectorizer.fit_transform(X_train)\n",
        "\n",
        "# Transform the test data using the same vectorizer\n",
        "X_test_tfidf = vectorizer.transform(X_test)\n",
        "\n",
        "# Now, use the TF-IDF features for training the RandomForestClassifier\n",
        "rf_raw = RandomForestClassifier(n_estimators=100, random_state=42)\n",
        "rf_raw.fit(X_train_tfidf, y_train)  # Use TF-IDF features\n",
        "\n",
        "y_pred_raw = rf_raw.predict(X_test_tfidf)  # Use TF-IDF features for prediction\n",
        "accuracy_raw = accuracy_score(y_test, y_pred_raw)\n",
        "print(f\"Accuracy (Raw BERT): {accuracy_raw * 100:.2f}%\\n\")\n",
        "\n",
        "rf_pca = RandomForestClassifier(n_estimators=100, random_state=42)\n",
        "rf_pca.fit(X_train_pca, y_train_pca)\n",
        "y_pred_pca = rf_pca.predict(X_test_pca)\n",
        "accuracy_pca = accuracy_score(y_test_pca, y_pred_pca)\n",
        "print(f\"Accuracy (PCA-Reduced): {accuracy_pca * 100:.2f}%\\n\")\n",
        "\n",
        "rf_auto = RandomForestClassifier(n_estimators=100, random_state=42)\n",
        "rf_auto.fit(X_train_red, y_train_red)\n",
        "y_pred_auto = rf_auto.predict(X_test_red)\n",
        "accuracy_auto = accuracy_score(y_test_red, y_pred_auto)\n",
        "print(f\"Accuracy (Autoencoder-Reduced): {accuracy_auto * 100:.2f}%\\n\")\n",
        "\n",
        "# Visualization of Results\n",
        "results = {\n",
        "    \"CNN+LSTM\": cnn_lstm_accuracy,\n",
        "    \"Raw BERT\": accuracy_raw * 100,\n",
        "    \"PCA-Reduced\": accuracy_pca * 100,\n",
        "    \"Autoencoder-Reduced\": accuracy_auto * 100\n",
        "}\n",
        "\n",
        "plt.bar(results.keys(), results.values())\n",
        "plt.ylabel(\"Accuracy (%)\")\n",
        "plt.title(\"Model Comparison: Accuracy Results\")\n",
        "plt.show()\n",
        "\n",
        "# Save the trained classifier and encoder/preprocessor\n",
        "\"\"\" joblib.dump(rf_auto, \"random_forest_model_auto.pkl\")\n",
        "joblib.dump(rf_pca, \"random_forest_model_pca.pkl\")\n",
        "joblib.dump(rf_raw, \"random_forest_model_raw.pkl\")\n",
        "joblib.dump(encoder, \"autoencoder_model.pkl\")\n",
        "joblib.dump(scaler, \"scaler.pkl\")  # If you used scaling\n",
        "joblib.dump(pca, \"pca_model.pkl\")  # If PCA was used (optional)\"\"\""
      ]
    },
    {
      "cell_type": "markdown",
      "metadata": {
        "id": "y_gll5vUHTbT"
      },
      "source": [
        "# Sample testing"
      ]
    },
    {
      "cell_type": "code",
      "execution_count": null,
      "metadata": {
        "colab": {
          "base_uri": "https://localhost:8080/"
        },
        "id": "UceLAar8XNn5",
        "outputId": "6d7054fa-1ca0-4276-8a0e-571d95e8915f"
      },
      "outputs": [
        {
          "name": "stdout",
          "output_type": "stream",
          "text": [
            "\n",
            "CNN+LSTM Model Predictions:\n",
            "Comparison of Actual and Predicted Sentiments:\n",
            "==================================================\n",
            "Text: read reread book several time lovely story written well let u know everyone human community good thing not good thing take good leave rest drawn sue bender experience amish applied life wonderful able read someone elses experience feel like side\n",
            "Actual Sentiment: 1\n",
            "Predicted Sentiment: 1\n",
            "--------------------------------------------------\n",
            "Text: took toefl test morning say book useful havent received official grade yet note 215 265 given fact ive studied two hour day one monthdefinitely book helped lot improve grammar also believe example organized boring fashion practice test listening section really good reading section advice read read read no matter much time spend vocabulary find word dont know\n",
            "Actual Sentiment: 1\n",
            "Predicted Sentiment: 1\n",
            "--------------------------------------------------\n",
            "Text: nice hotel not quite ritz carlton standard rc phx nice hotel appearance quite nice look like high rise hotel outside lobby decorated christmas beautifully arrival check good desk polite addressed mr arriving room somewhat typical rc standard room smaller room king bed mountain view read view shopping mall accross street driveway hotel room clean bathroom small compared rcs appropriate amenity shampoo desk shampoo ready shower nt locate given 2 bottle shower gel no shampoo thought really not standard checked prior arrival 4 night stay lunch day meeting room asked additional tuna sandwich meeting room attendant left came tell no tuna grilled tuna steak sandwich ritz carlton sushi bar main restaurant run tuna proceeded downstairs restaurant meeting saw pleant tuna sushi bar quite disappointed hotel tell ran tuna nt want bothered making sandwich balance stay good club bar quite nice staff attentive excellent restaurant walking distance morton houston capital grille staying celebrity guest saw charles barkley bar marley marley guest yes dog acdc staying concert stay nice hotel room bathroom small opinion not quite normal rc standard service generally good not quite typical rc standard guest bed great comfortable meeting room appointed nicely say stay work hotel truly excellent not good not sure appear\n",
            "Actual Sentiment: 1\n",
            "Predicted Sentiment: 1\n",
            "--------------------------------------------------\n",
            "Text: happy hotel family husband toddler stayed week house hunting seattle room located 23rd floor view space needle not facing i5 water felt lucky renovated room sister family spent night 18th floor halfway renovated room bathroom needed updating old make sure ask renovated room i5 little noisy sleep heatingcooling loud kept nighthotel staff helpful pleasant no matter hour hotel food goodthe hotel located bit away westlake pike place waterfront got use walking hill nt bad yes starbucks corner nice local market located steet block quick walk bank america atm insideoverall pretty happy hotel\n",
            "Actual Sentiment: 1\n",
            "Predicted Sentiment: 1\n",
            "--------------------------------------------------\n",
            "Text: know youve already entered film festival least think may making think get best animated short film every one bravo cant wait full film realize may not hear often enough bizarre nature animation hear accept truth kudos friend okay im trying get ten line text though still mean come yet another shoe cannot stop yet extremely annoying yet time nothing better fact ill probably watch movie yet another spasmodic jason steele marathon lot thoser\n",
            "Actual Sentiment: 1\n",
            "Predicted Sentiment: 1\n",
            "--------------------------------------------------\n",
            "Text: great hotel unique hotel great location wanted spend night boston chose hotel based photo web site location pleasantly surprised room small beautifully appointed balcony overlooking financial district quincy market service exceptional left evening came new towel bed turned room straightened room clean bright hotel bar resteraunt exceptional definitely come\n",
            "Actual Sentiment: 1\n",
            "Predicted Sentiment: 1\n",
            "--------------------------------------------------\n",
            "Text: replaced amber bulb turn signal one car clear lens unfortunately bulb bright look reddish like washed dont enough red coating look redi looking something look color stop light bulb dont\n",
            "Actual Sentiment: 0\n",
            "Predicted Sentiment: 0\n",
            "--------------------------------------------------\n",
            "Text: get hand british film expect sort quality come acting camera work lighting etc film business done highly skilled craftsman alone bring enjoyable one half hour look layer professionalism dont really find anything apart making feel good advocate drug liberal view there really nothing script mediocre plot predictable ending must one worst east hollywood english cosiness shameful cynical attempt make another full monty made film havent got clue apart making money course\n",
            "Actual Sentiment: 0\n",
            "Predicted Sentiment: 0\n",
            "--------------------------------------------------\n",
            "Text: one contrived tedious clichd film ever seen yes ive seen pearl harbour even like gina mckee couldnt act way appalling dialogue described arthouse euphemism dull dreadful quite frankly artless film devoid plot critic feel deserves called art far baffling america love without film would remained shelf perhaps belonged\n",
            "Actual Sentiment: 0\n",
            "Predicted Sentiment: 0\n",
            "--------------------------------------------------\n",
            "Text: risk start trip dr year not expecting luxurious knowing 5 star not 5 star dr chosen natura park based recommendation guest service person resort juan dolio went hoping nice fun relaxing time previously year coral hamaca boca chica barcelo capella juan dolio started resort natura park overbooked following day not picked promised called person charge desk moved sunscape natura prearranged time taxi taken surrounding yes quite nice relize pond smell rotten room run establishment size uncomfortable bed food no luck reservation restaurant day stay buffet choice eat way happy munch aa food got picture water sport good joke booked day advance guess cut waiting list talk able catamaran sail couple occasion hour enjoyment beach overcrowded place hunt chair 8am packed like sardine chair chair staffpeople unfriendly comparing santo domingo town complain line plan natura park risk\n",
            "Actual Sentiment: 0\n",
            "Predicted Sentiment: 0\n",
            "--------------------------------------------------\n",
            "\n",
            "PCA-Reduced Model Predictions:\n",
            "Comparison of Actual and Predicted Sentiments:\n",
            "==================================================\n",
            "Text: class read book castle attic whole class liked book favorate part willam got past dragonbut get castle dont know read book find recommend read book\n",
            "Actual Sentiment: 1\n",
            "Predicted Sentiment: 1\n",
            "--------------------------------------------------\n",
            "Text: mixed experience travel frequently work pleasure hotel max mixed experiencemy reservation order arrived despite calling twice making sure incidental cleared room hold nt credit card arrival told not possiblereasonably credit card placed hold hour later resting room cleaning staff came emptied incidental nt room charge cardthe room crowded small compared similar boutique san francisco knob window heater opposed digital moderate temperature native minnesota seattle fairly temperate comparison nt huge deal factor coming warmer climate nt want wake roastingfreezingeventually room felt cozy instead cramped getting used decor entertainingthere multiple occasion day room smoky likely nearby smoking room opening window solved problem hear neighbor talking normally roomon positive art doorway stunning hotel certainly personality desk friendly knowledgeable competent free business center high speed internet printer location prime walking part citytypically minute wait cab walk uphill block westin line available cab takeif looking crash night great choice looking spend time probably better choice available money\n",
            "Actual Sentiment: 1\n",
            "Predicted Sentiment: 0\n",
            "--------------------------------------------------\n",
            "Text: 3 king size bed stayed 3 night wife teenage son booked premier room hotel web site city view queen bed got given room city view king size bed bit sloppy approach getting right onset ended queen road nice view office block opposite not idea city view queried rate booked city view reception told no difference price city non city view funny really hotel web site offer room different rate depending nt city view pay extra 50 night customer hotel care addition appears massive development site rear hotel contractor start pile driving crack dawn tough sleepwe like hotel apart reception complete hash thing enjoy stay getting wrong start downer event shame staff helpful polite\n",
            "Actual Sentiment: 0\n",
            "Predicted Sentiment: 0\n",
            "--------------------------------------------------\n",
            "Text: part defective not shown package round top ring hold bag end 45 degree angle side bar defective seen package not package final product not advertised\n",
            "Actual Sentiment: 0\n",
            "Predicted Sentiment: 0\n",
            "--------------------------------------------------\n",
            "Text: remember watching film ago seeing 3000 mile graceland came flooding back hasnt video dvd release yet sacrilegious majesty movie making never released rubbish fact one john carpenter film hasnt released fact havent seen tv either since day watched kurt russell perfect choice role elvis definitely role born play john carpenter break horror brought gem id love tv play well acted well performed far singing go belting elvis greatest hit gusto think also film formed partnership russell carpenter made go make number great movie escape new york thing big trouble little china escape la someone got release someone remake version life feel would not tarnish king also ruin magic one doesnt get released gonna heartbreak hotel\n",
            "Actual Sentiment: 1\n",
            "Predicted Sentiment: 1\n",
            "--------------------------------------------------\n",
            "Text: nice lacking high hope hotel wanted stay lobby beautifully decorated continential breakfast better thing know room not sound proof neighbor flush commode take shower hear night long valet entry little odd find no complaint circled block oncethere iron cactus walking distance great food drinksthe room nice loud\n",
            "Actual Sentiment: 1\n",
            "Predicted Sentiment: 0\n",
            "--------------------------------------------------\n",
            "Text: beautifully engaging song name film best song oscar 1955love many splendored thingits april rose grows early springlove nature way giving reason livingthat golden crown make man kingonce high windy hillin morning mist two lover kissed world stood stillthen finger touched silent heart taught singyes true love manysplendored thinghow forget beautiful song henry king director privilege work jennifer jones twice year film greatly underrated film good morning miss dove jones nominated splendored thing could easily nominated miss dove wellwilliam holden great war correspondent sent report communist revolution 1949 china love jones oriental doctor endearing memorable watchwhile ending not pleasing still one greatest romance ever put screen\n",
            "Actual Sentiment: 1\n",
            "Predicted Sentiment: 1\n",
            "--------------------------------------------------\n",
            "Text: cinema 60 much time revolution politics music filmmaker daring make avantgarde film discussing taboo subject permitted exploitation film starting breathless underground american cinema kenneth anger film became experimental accumulated hollywood realized mass commercial appeal easy rider one best surprising output era also one least successful initially head made monkees career seriously waning damned one best psychedelic film ever madethe plot well really isnt one many said involves monkees going one surreal scenario next one however sequence obviously lsdtinged basically mock monkees sick confined light prefab reputation shame film found no audience teeny boppers loved moved onto new fad always psychedelic haightashbury crowd film garnered would never caught dead monkees movie loss film may plot less certainly not without meaning intelligently put together crew later made easy rider five easy piece film later revived 1973 raybert retrospective gained positive response granted cult following deserved long time ironically monkees would fall victim commercialism protested film later 80 reunion 1010\n",
            "Actual Sentiment: 1\n",
            "Predicted Sentiment: 0\n",
            "--------------------------------------------------\n",
            "Text: film quite simply one worst film ever made damning indictment not british film industry talentless hack work today not film get mainstream distribution also feature good cast british actor went wrong dont know simply dont care enough engage debate film terrible deserves no thought warned stay hell away rubbish apparently need write ten line text review might well detail plot nob man setup evil friend coworker father company thus lead encounter russian mafia dodgy accent stupid stupid plot twistsdevices asked money back perhaps still shock experience want good crime film watch usual suspect godfather lock stock thats peak contemporary british crime film\n",
            "Actual Sentiment: 0\n",
            "Predicted Sentiment: 0\n",
            "--------------------------------------------------\n",
            "Text: horrible customer service went new orleans weekend friend new orleans great hotel awful arrived room reserved good thing confirmation number second room informed people waiting looking need line wanted checked second room package gave 50 parking hotel arrived no longer parking ended paying time parking ramp street room reserved smelled like smoke room wet spot floor smelled like gone bathroom package offered free harbor cruise asked cruise time none hotel clerk idea advantage cruise time told no idea advantage cruise handed sheet month package offering cruise new packagethis hotel horrible customer service not clean vacation new orleans youl love stay royal saint charles\n",
            "Actual Sentiment: 0\n",
            "Predicted Sentiment: 0\n",
            "--------------------------------------------------\n",
            "\n",
            "Raw BERT Model Predictions:\n",
            "Comparison of Actual and Predicted Sentiments:\n",
            "==================================================\n",
            "Text: no chair beautiful resort not chair beach pool not 7am reserve chair luck not till 3 pm4pm day problem seating people chair resort shared resort close place beautiful come wo nt place reason\n",
            "Actual Sentiment: 0\n",
            "Predicted Sentiment: 0\n",
            "--------------------------------------------------\n",
            "Text: id like think fairly open minded guy take lot dislike movie one without doubt one suckiest crappiest movie ive ever seeni no idea whats wrong people gave good rating imdb usually pretty reliable come rating thing imagine people mustve voted one conditions1 shitfaced stoned mind 2 theyve received hard cash vote 3 gunpointi cant believe wasted good 1 h 45 min life pathetic excuse movie\n",
            "Actual Sentiment: 0\n",
            "Predicted Sentiment: 0\n",
            "--------------------------------------------------\n",
            "Text: purchased book hoping find history town one ancestor samuel richardson helped found although little mention people direct line extremely interesting read history town founded 1630 history character real various chapter author excellent job researching fact putting facinating story book gave better understanding several generation went order make woburn today would great read anyone interested early history united state\n",
            "Actual Sentiment: 1\n",
            "Predicted Sentiment: 1\n",
            "--------------------------------------------------\n",
            "Text: mother worked dennis l raider eleven year not mention shared office announced btk shocked whole day telling story never would seen wichita killer ive heard retell many time ive inquired lot thing gone interview asked go ive read entire book written raider wichita hometown surprised thing could happen kansasthere another btk movie tv not long ago thought one would better portraying dennis killing maybe even intelligent touch motivesim going blunt flaw movie based mom portrayal reading video tape ive seen talkingfirst camera angle horrible looked though shot home video camera acting terrible couldnt even bear watch itdennis raider never long hair dennis raider anal man follow rule book kind guy wasnt nice movie made look polite abrupt business like go killing far know youve seen confession court already guessand obsession slaughter house no never read dennis raider confessed problem animal cruelty people squishing bug fact practiced cat dog choking method yet throughout whole movie putting animal victim face acting like cared wellbeing themdennis raider never killed people knew confessed movie first killing tell lady know alsoi really dont even want go movie im already ranting not want watch interested actual happening btk not want watch want good horror movie want badly shot halfporno slaughter scene served side kind movie\n",
            "Actual Sentiment: 0\n",
            "Predicted Sentiment: 0\n",
            "--------------------------------------------------\n",
            "Text: great location room wanted stay 15 year nt disappoint way location half block jackson square perfect room 212 small balcony table chair nt bother free breakfast cafe du monde block away\n",
            "Actual Sentiment: 1\n",
            "Predicted Sentiment: 1\n",
            "--------------------------------------------------\n",
            "Text: im not sure producer needed trade name somewhat successful movie franchise title suggests sequel first three movieswhich not even though marque houston appear hp3 played totally different character eight year older film okayso reid martin werent talented couldnt carry film themselvesbut trade hp franchise seems could made sort reference albeit minor earlier movie im sure everyone wanted see hoodwinkedinto thinking seeing sequelnot totally different film familiar name im sorrykym whitley not funny could not hold candle late robin harris ketty lester dc curry earlier film although meagen good mari morrow substantial visual diversioni give thumb naming film last minute would ok furthermore hudlin brother produced first three movie not involved making film\n",
            "Actual Sentiment: 0\n",
            "Predicted Sentiment: 0\n",
            "--------------------------------------------------\n",
            "Text: great stay got dr great time lot rest hotel exactly book room spacious clean food good lot choice picky plenty eat steak house favorite place eat people friendly helpful language barrier hard time hotel maid waitress tried hardest understand plaza beach shop spoke good english time went outback safari wonderful learned alot history dr seen true country went lot rum beer drink favorite drink bluejay tasted like 3 flavored posicles definitly recommend resort going punta cana\n",
            "Actual Sentiment: 1\n",
            "Predicted Sentiment: 1\n",
            "--------------------------------------------------\n",
            "Text: man starteverything cartoon episodesto storiesscript animation stupidestdummest annoying cartoon walt disney television animation ever created made im glad toon disney 2006 disney channel stop airing u may 2008believe wise choice skip cast black cloud cartoonif watch dont say not alert warn youyour boring right dull confusing timei wish pray never even saw 1 episode cartoon buzz lightyear star command could would part brain removed remembers watching ityes bad\n",
            "Actual Sentiment: 0\n",
            "Predicted Sentiment: 0\n",
            "--------------------------------------------------\n",
            "Text: movie look feel many fresh director closeup focus emotion experienced actor point film presented many angle expressed well relatively inexperienced cast point faith jesus christ morman church oh read hear anything contrary teaching prophet haterade fuel hatred\n",
            "Actual Sentiment: 0\n",
            "Predicted Sentiment: 1\n",
            "--------------------------------------------------\n",
            "Text: one worst movie ive ever seen acting terrible kid adult character showed no little not enough emotion lighting terrible many mess ups time day film shot river scene get boat destroyed there 4 shot sheriff dad evening boat jillian molly evening swimming rest kid daytime supposed evening river bank doctor beatrice simonton night not evening getting boat best acting movie probably sheriff cappy although there slip character pulse detector whatever thing people die beep show cappy died still move still heard beeping nurse extra check pulse manually show pulse finally dy guess not going perfect since independent movie still could better not worth watching honestly even kid might well watch something good like lion king toy story youre going see anything youll remember\n",
            "Actual Sentiment: 0\n",
            "Predicted Sentiment: 0\n",
            "--------------------------------------------------\n",
            "\n",
            "Autoencoder-Reduced Model Predictions:\n",
            "Comparison of Actual and Predicted Sentiments:\n",
            "==================================================\n",
            "Text: unit used couple year reason bought portability could use car walking aspect nice every positive normally come negative may guess due size unit receiver probably not powerful accurate receiver need learn cope aspect case receiver got confused city san francisco couple tall building around driving around windy road sierra worked fine used town country found another navigation sw think nicer performs better one came hp mine mmcx\n",
            "Actual Sentiment: 1\n",
            "Predicted Sentiment: 0\n",
            "--------------------------------------------------\n",
            "Text: great hotel couple sydney australia stayed casablanca hotel 8 day middle september hotel oustanding respect need view hotel total package located right heart time square room bathroom spotless furnished decor room hallway impressive piece resistance rick cafe second floor access 24 hour coffee snack free wine cheese evening free internet access cafe great place relax meet guest boutique hotel not offer amenity larger chain hotel far concerned smaller friendly staff place relax socialise outside room arrived room noisy asked moved no problem quickly located room hotel received excellent service staff special mention zishan hassan exceptional providing information courtesy friendly approach hotel certainly not budget category considered worth money especially given substantial complimentary breakfast day snack free wine 6pm 8pm definitely return\n",
            "Actual Sentiment: 1\n",
            "Predicted Sentiment: 1\n",
            "--------------------------------------------------\n",
            "Text: nice vacation westin nice clean hotel room spacious housekeeping nice job keeping clean week pool designated adult kid swam week activity pool kid pool crowded everyday nt cleaned day beach nice nt lot people great wave like ocean like resturants hotel good food cost meal expensive hotel know nt option food staying hotel cost money rent car shuttle leave resort went old san juan nice day went amazing pizzera right block center square truely enjoyed stay looking hotel action thing night nt reccommend staying\n",
            "Actual Sentiment: 1\n",
            "Predicted Sentiment: 1\n",
            "--------------------------------------------------\n",
            "Text: let keep simple promising plot ruined bad actingpoor often ignorant dialogue scriptinginconsistent plot element slow walking zombie fast one back slowan inhabited island overrun zombie yet not single boat available anywherepiss poor directingwhat else left say\n",
            "Actual Sentiment: 0\n",
            "Predicted Sentiment: 0\n",
            "--------------------------------------------------\n",
            "Text: stayed stayed 4 people separate room el july 8th 11th business trip ocean view room garden view room garden view room 6th floor opinion pretty darn good view ocean money not worth upgrade ocean view room manage garden view room floor girlfriend ocean room right elevator requested change second room right funicular railway way run night think request moved noise place nt right equally annoying room family know kid primary goal life slam door yell loudly requested particular wing ocean view room time nt near noisy room view far exceeded clearly room nt created equally speak nice bed ocean view room really comfortable forget l shaped vinyl couch came idea fired overall staff pleasant helpful accommodating tried sign couple tour unless hotel people signed wo nt run disappointing luckily decided rent car day rental cheap enterprise desk right concierge best decision car offer infinitely freedom island nt public trans hotel literally huge hill far away san juan way escape example eat local reasonably priced try el pasion looking good nearby restaurant people spent nearly half cargas hotel tour saw double attraction annoying thing place beach island boat nt bother schedule boat leaf 3 pm boat hotel leaf 5 pm hotel visited business meeting beach no 2 minute walk hotel lobby eg rio mar hotel near el yunque rainforest aside swam beach 4 pm amazing el guess luck want beer sand 5 pm pool open 24 hour day crowded point nt really consider using wondered half people using staying resortthe sting ray cafe offered delicious fine dining 50 person not including drink restaurant overpriced acceptable believe better fajardo local place instead overall place amazing view probably better family couple want beach access huge hassle nt stay place better nt want travel island looking resort experience golf course looked great scorched part casino lot fun like video poker pay table awful 65 jack better advice stay centralized stay rent car\n",
            "Actual Sentiment: 0\n",
            "Predicted Sentiment: 0\n",
            "--------------------------------------------------\n",
            "Text: using 3 week seen no difference measurement posture definitely improved also lost 6 pound likely due combination diet exercise also wearing corset least 4 day week 9 hour timei 59 150 pound bought size small fit super tight look forward eventually going second hooksmy complaint smell smell like rubber hope no one around really notice notice wear wrap around midsection underneath day smell still get stay skinotherwise construction super sturdy anticipate needed one long time hopefully smell fade hand wash\n",
            "Actual Sentiment: 1\n",
            "Predicted Sentiment: 0\n",
            "--------------------------------------------------\n",
            "Text: great door knocker clean look peep hole isnt obvious little thin side guess dont need much easy get engraved wasnt easiest install would liked template assist lining screw look professional\n",
            "Actual Sentiment: 1\n",
            "Predicted Sentiment: 1\n",
            "--------------------------------------------------\n",
            "Text: product deflated night refilled let sit no one still lost air disappointed product initially started great aunt would not able floor traditional air mattress attempting exchange hoping one item review glowing hoping replacement perform review indicated\n",
            "Actual Sentiment: 0\n",
            "Predicted Sentiment: 0\n",
            "--------------------------------------------------\n",
            "Text: agree though story melville might unfilmable isnt even credible try move story 20th century outrage original story intent nature possibly might able move england must period piece even story narratorthe proprietortells flashback going back even somewhere around 1800 towards end 19th century strangely disobedient worker would discarded without thought 20th century come give expletive deleted break even around 1800 behavior didnt work well view ending movie ending dont know didnt watch entire travestyi stop like setting streetcar named desire elizabethan england\n",
            "Actual Sentiment: 0\n",
            "Predicted Sentiment: 0\n",
            "--------------------------------------------------\n",
            "Text: chapter set like pamplet bulleted information doesnt seem appropriate college class written like middle school textbook doesnt offer information layman already know\n",
            "Actual Sentiment: 0\n",
            "Predicted Sentiment: 0\n",
            "--------------------------------------------------\n"
          ]
        }
      ],
      "source": [
        "# Function to display sample predictions\n",
        "def display_predictions(test_texts, y_test, y_pred, num_samples=10):\n",
        "    y_test_array = np.array(y_test)\n",
        "    indices = np.random.choice(test_texts.index, num_samples, replace=False)\n",
        "\n",
        "    print(\"Comparison of Actual and Predicted Sentiments:\")\n",
        "    print(\"=\" * 50)\n",
        "    for i in indices:\n",
        "        print(f\"Text: {test_texts.loc[i]}\")  # Use .loc to access by index label\n",
        "        print(f\"Actual Sentiment: {y_test_array[test_texts.index.get_loc(i)]}\")  # Use get_loc to find index position\n",
        "        print(f\"Predicted Sentiment: {y_pred[test_texts.index.get_loc(i)]}\")  # Use get_loc to find index position\n",
        "        print(\"-\" * 50)\n",
        "\n",
        "# CNN+LSTM Model\n",
        "print(\"\\nCNN+LSTM Model Predictions:\")\n",
        "test_texts_cnn = X_test  # Use the original test texts\n",
        "display_predictions(test_texts_cnn, y_test, y_pred_classes)\n",
        "\n",
        "# PCA-Reduced Model\n",
        "print(\"\\nPCA-Reduced Model Predictions:\")\n",
        "test_texts_pca = data['text'].iloc[y_test_pca.index].reset_index(drop=True)  # Map PCA test indices to texts\n",
        "display_predictions(test_texts_pca, y_test_pca, y_pred_pca)\n",
        "\n",
        "# Raw BERT Model\n",
        "print(\"\\nRaw BERT Model Predictions:\")\n",
        "test_texts_bert = data['text'].iloc[X_test.index].reset_index(drop=True)  # Map Raw BERT test indices to texts\n",
        "display_predictions(test_texts_bert, y_test, y_pred_raw)\n",
        "\n",
        "# Autoencoder-Reduced Model\n",
        "print(\"\\nAutoencoder-Reduced Model Predictions:\")\n",
        "test_texts_auto = data['text'].iloc[y_test_red.index].reset_index(drop=True)  # Map Autoencoder test indices to texts\n",
        "display_predictions(test_texts_auto, y_test_red, y_pred_auto)"
      ]
    },
    {
      "cell_type": "code",
      "execution_count": null,
      "metadata": {},
      "outputs": [],
      "source": [
        "tokenizer = BertTokenizer.from_pretrained('bert-base-uncased')\n",
        "\n",
        "new_texts = [\n",
        "    \"This app crashes constantly and is full of bugs. Totally useless.\",\n",
        "    \"I absolutely love this product! It works perfectly and exceeded my expectations.\",\n",
        "    \"The customer support was unhelpful and rude throughout the process.\"\n",
        "]\n",
        "\n",
        "# Tokenize the custom texts\n",
        "def tokenize_custom_texts(texts, max_len=128):\n",
        "    encoded = tokenizer.batch_encode_plus(\n",
        "        texts,\n",
        "        max_length=max_len,\n",
        "        padding='max_length',\n",
        "        truncation=True,\n",
        "        return_tensors=\"np\"\n",
        "    )\n",
        "    return encoded['input_ids']\n",
        "\n",
        "# Tokenize the custom test data\n",
        "custom_tokenized = tokenize_custom_texts(new_texts)\n",
        "\n",
        "# Predict the sentiments\n",
        "custom_predictions = cnn_lstm_model.predict(custom_tokenized)\n",
        "\n",
        "# Convert predictions to class indices\n",
        "custom_predicted_classes = np.argmax(custom_predictions, axis=1)\n",
        "\n",
        "# Define sentiment labels (update according to your dataset)\n",
        "sentiment_labels = {0: \"Negative\", 1: \"Positive\"}\n",
        "\n",
        "# Map predicted classes to sentiment labels\n",
        "predicted_sentiments = [sentiment_labels[cls] for cls in custom_predicted_classes]\n",
        "\n",
        "# Display results\n",
        "print(\"Custom Sentiment Predictions:\")\n",
        "print(\"=\" * 50)\n",
        "for i, text in enumerate(new_texts):\n",
        "    print(f\"Text: {text}\")\n",
        "    print(f\"Predicted Sentiment: {predicted_sentiments[i]}\")\n",
        "    print(\"-\" * 50)"
      ]
    },
    {
      "cell_type": "code",
      "execution_count": null,
      "metadata": {
        "colab": {
          "base_uri": "https://localhost:8080/",
          "height": 35
        },
        "id": "MfUB6gjrXWKT",
        "outputId": "01b0242f-2c0c-48b0-9541-3fc683199b99"
      },
      "outputs": [
        {
          "data": {
            "application/vnd.google.colaboratory.intrinsic+json": {
              "type": "string"
            },
            "text/plain": [
              "'system_architecture.png'"
            ]
          },
          "execution_count": 34,
          "metadata": {},
          "output_type": "execute_result"
        }
      ],
      "source": [
        "# Initialize diagram\n",
        "dot = Digraph(\"System_Architecture\", format=\"png\")\n",
        "dot.attr(rankdir=\"TB\")\n",
        "\n",
        "# Nodes\n",
        "dot.node(\"A\", \"Input Data: Raw Text\")\n",
        "dot.node(\"B\", \"Preprocessing: Tokenization\")\n",
        "dot.node(\"C\", \"Feature Extraction: BERT Embeddings\")\n",
        "dot.node(\"D1\", \"Raw BERT Embeddings -> Random Forest\")\n",
        "dot.node(\"D2\", \"PCA-Reduced Features -> Random Forest\")\n",
        "dot.node(\"D3\", \"Autoencoder-Reduced Features -> Random Forest\")\n",
        "dot.node(\"D4\", \"BERT Embeddings -> CNN+LSTM\")\n",
        "dot.node(\"E\", \"Evaluation: Metrics Comparison\")\n",
        "dot.node(\"F\", \"Output: Predicted Sentiments\")\n",
        "\n",
        "# Edges\n",
        "# Provide edges as a list of tuples (start_node, end_node)\n",
        "dot.edges([\n",
        "    (\"A\", \"B\"), (\"B\", \"C\"), (\"C\", \"D1\"), (\"C\", \"D2\"),\n",
        "    (\"C\", \"D3\"), (\"C\", \"D4\"), (\"D1\", \"E\"), (\"D2\", \"E\"),\n",
        "    (\"D3\", \"E\"), (\"D4\", \"E\"), (\"E\", \"F\")\n",
        "])\n",
        "\n",
        "# Render and display\n",
        "dot.render(\"system_architecture\", view=True)"
      ]
    }
  ],
  "metadata": {
    "colab": {
      "provenance": []
    },
    "kernelspec": {
      "display_name": "Python 3",
      "name": "python3"
    },
    "language_info": {
      "name": "python"
    }
  },
  "nbformat": 4,
  "nbformat_minor": 0
}
